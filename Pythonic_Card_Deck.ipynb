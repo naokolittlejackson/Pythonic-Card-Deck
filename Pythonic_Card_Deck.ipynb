{
  "nbformat": 4,
  "nbformat_minor": 0,
  "metadata": {
    "colab": {
      "provenance": [],
      "authorship_tag": "ABX9TyN2X2GQVK48g4xs94EIfH4B",
      "include_colab_link": true
    },
    "kernelspec": {
      "name": "python3",
      "display_name": "Python 3"
    },
    "language_info": {
      "name": "python"
    }
  },
  "cells": [
    {
      "cell_type": "markdown",
      "metadata": {
        "id": "view-in-github",
        "colab_type": "text"
      },
      "source": [
        "<a href=\"https://colab.research.google.com/github/naokolittlejackson/Pythonic-Card-Deck/blob/main/Pythonic_Card_Deck.ipynb\" target=\"_parent\"><img src=\"https://colab.research.google.com/assets/colab-badge.svg\" alt=\"Open In Colab\"/></a>"
      ]
    },
    {
      "cell_type": "code",
      "execution_count": 1,
      "metadata": {
        "id": "EB9otpQCPx9H"
      },
      "outputs": [],
      "source": [
        "import collections"
      ]
    },
    {
      "cell_type": "code",
      "source": [
        "Card = collections.namedtuple('Card', ['rank', 'suit'])"
      ],
      "metadata": {
        "id": "PtMaE6XNP-25"
      },
      "execution_count": 2,
      "outputs": []
    },
    {
      "cell_type": "code",
      "source": [
        "class FrenchDeck:\n",
        "    ranks = [str(n) for n in range(2,11)] + list('JOKA')\n",
        "    suits = 'spades diamonds clubs hearts'.split()"
      ],
      "metadata": {
        "id": "NCA7q3w2QHcV"
      },
      "execution_count": 32,
      "outputs": []
    },
    {
      "cell_type": "code",
      "source": [
        "def __init__(self):\n",
        "  self._cards = [Card(rank, suit) for suit in self.suits\n",
        "                                  for rank in self.ranks]"
      ],
      "metadata": {
        "id": "yZrE73yIAmgA"
      },
      "execution_count": 4,
      "outputs": []
    },
    {
      "cell_type": "code",
      "source": [
        "def __len__(self):\n",
        "  return len(self._cards)"
      ],
      "metadata": {
        "id": "DlYZUk_ZUbeB"
      },
      "execution_count": 5,
      "outputs": []
    },
    {
      "cell_type": "code",
      "source": [
        "def __getitem__(self, position):\n",
        "  return self._cards[position]"
      ],
      "metadata": {
        "id": "MZTAkWoBVb4p"
      },
      "execution_count": 6,
      "outputs": []
    },
    {
      "cell_type": "code",
      "source": [
        "beer_card = Card('7', 'diamonds')\n",
        "beer_card"
      ],
      "metadata": {
        "colab": {
          "base_uri": "https://localhost:8080/"
        },
        "id": "shrESMgNWvZn",
        "outputId": "a9df928a-caef-419a-866d-6f2a26a93267"
      },
      "execution_count": 7,
      "outputs": [
        {
          "output_type": "execute_result",
          "data": {
            "text/plain": [
              "Card(rank='7', suit='diamonds')"
            ]
          },
          "metadata": {},
          "execution_count": 7
        }
      ]
    },
    {
      "cell_type": "code",
      "source": [
        "class FrenchDeck:\n",
        "  ranks = [str(n) for n in range(2, 11)] + list('JQKA')\n",
        "  suits = 'spades diamonds clubs hearts'.split()\n",
        "\n",
        "  def __init__(self):\n",
        "    self._cards = [Card(rank, suit) for suit in self.suits\n",
        "                                        for rank in self.ranks]\n",
        "\n",
        "  def __len__(self):\n",
        "    return len(self._cards)\n",
        "\n",
        "deck = FrenchDeck()\n",
        "len(deck)\n"
      ],
      "metadata": {
        "id": "dSuyyzxMoLq-",
        "colab": {
          "base_uri": "https://localhost:8080/"
        },
        "outputId": "b75bfe44-d52b-4f9c-a9fc-519c37fc03d2"
      },
      "execution_count": 23,
      "outputs": [
        {
          "output_type": "execute_result",
          "data": {
            "text/plain": [
              "52"
            ]
          },
          "metadata": {},
          "execution_count": 23
        }
      ]
    },
    {
      "cell_type": "code",
      "source": [
        "class FrenchDeck:\n",
        "    ranks = [str(n) for n in range(2, 11)] + list('JOKA')\n",
        "    suits = 'spades diamonds clubs hearts'.split()\n",
        "\n",
        "    def __init__(self):\n",
        "        self._cards = [Card(rank, suit) for suit in self.suits\n",
        "                       for rank in self.ranks]\n",
        "\n",
        "    def __getitem__(self, position):\n",
        "        return self._cards[position]\n",
        "\n",
        "deck = FrenchDeck()\n",
        "print(deck[0])"
      ],
      "metadata": {
        "colab": {
          "base_uri": "https://localhost:8080/"
        },
        "id": "1khLzdtldVo2",
        "outputId": "df90b60f-2e9f-4fdc-8c24-ec03dd31f9cf"
      },
      "execution_count": 25,
      "outputs": [
        {
          "output_type": "stream",
          "name": "stdout",
          "text": [
            "Card(rank='2', suit='spades')\n"
          ]
        }
      ]
    },
    {
      "cell_type": "code",
      "source": [
        "from random import choice\n",
        "\n",
        "class FrenchDeck:\n",
        "    ranks = [str(n) for n in range(2, 11)] + list('JOKA')\n",
        "    suits = 'spades diamonds clubs hearts'.split()\n",
        "\n",
        "    def __init__(self):\n",
        "        self._cards = [Card(rank, suit) for suit in self.suits\n",
        "                       for rank in self.ranks]\n",
        "\n",
        "    def __len__(self):\n",
        "        return len(self._cards)\n",
        "\n",
        "    def __getitem__(self, position):\n",
        "        return self._cards[position]\n",
        "\n",
        "deck = FrenchDeck()\n",
        "print(choice(deck))"
      ],
      "metadata": {
        "colab": {
          "base_uri": "https://localhost:8080/"
        },
        "id": "GCFSp6c0fr1W",
        "outputId": "092bac68-7899-481d-f736-2309f7c29006"
      },
      "execution_count": 29,
      "outputs": [
        {
          "output_type": "stream",
          "name": "stdout",
          "text": [
            "Card(rank='8', suit='diamonds')\n"
          ]
        }
      ]
    },
    {
      "cell_type": "code",
      "source": [
        "class FrenchDeck:\n",
        "    ranks = [str(n) for n in range(2, 11)] + list('JOKA')\n",
        "    suits = 'spades diamonds clubs hearts'.split()\n",
        "\n",
        "    def __init__(self):\n",
        "        self._cards = [Card(rank, suit) for suit in self.suits\n",
        "                       for rank in self.ranks]\n",
        "\n",
        "    def __len__(self):\n",
        "        return len(self._cards)\n",
        "\n",
        "    def __getitem__(self, position):\n",
        "        return self._cards[position]\n",
        "\n",
        "deck = FrenchDeck()\n",
        "print(deck[:3])"
      ],
      "metadata": {
        "colab": {
          "base_uri": "https://localhost:8080/"
        },
        "id": "qxJOMEYKgQhy",
        "outputId": "3fccf507-2731-4355-f600-36e03da904ca"
      },
      "execution_count": 30,
      "outputs": [
        {
          "output_type": "stream",
          "name": "stdout",
          "text": [
            "[Card(rank='2', suit='spades'), Card(rank='3', suit='spades'), Card(rank='4', suit='spades')]\n"
          ]
        }
      ]
    },
    {
      "cell_type": "code",
      "source": [
        "class FrenchDeck:\n",
        "    ranks = [str(n) for n in range(2, 11)] + list('JOKA')\n",
        "    suits = 'spades diamonds clubs hearts'.split()\n",
        "\n",
        "    def __init__(self):\n",
        "        self._cards = [Card(rank, suit) for suit in self.suits\n",
        "                       for rank in self.ranks]\n",
        "\n",
        "    def __len__(self):\n",
        "        return len(self._cards)\n",
        "\n",
        "    def __getitem__(self, position):\n",
        "        return self._cards[position]\n",
        "\n",
        "deck = FrenchDeck()\n",
        "\n",
        "for card in deck:\n",
        "  print(card)"
      ],
      "metadata": {
        "colab": {
          "base_uri": "https://localhost:8080/"
        },
        "id": "ByynHBTzmL_8",
        "outputId": "f915b2a9-318f-4b94-c120-e501b5c93969"
      },
      "execution_count": 33,
      "outputs": [
        {
          "output_type": "stream",
          "name": "stdout",
          "text": [
            "Card(rank='2', suit='spades')\n",
            "Card(rank='3', suit='spades')\n",
            "Card(rank='4', suit='spades')\n",
            "Card(rank='5', suit='spades')\n",
            "Card(rank='6', suit='spades')\n",
            "Card(rank='7', suit='spades')\n",
            "Card(rank='8', suit='spades')\n",
            "Card(rank='9', suit='spades')\n",
            "Card(rank='10', suit='spades')\n",
            "Card(rank='J', suit='spades')\n",
            "Card(rank='O', suit='spades')\n",
            "Card(rank='K', suit='spades')\n",
            "Card(rank='A', suit='spades')\n",
            "Card(rank='2', suit='diamonds')\n",
            "Card(rank='3', suit='diamonds')\n",
            "Card(rank='4', suit='diamonds')\n",
            "Card(rank='5', suit='diamonds')\n",
            "Card(rank='6', suit='diamonds')\n",
            "Card(rank='7', suit='diamonds')\n",
            "Card(rank='8', suit='diamonds')\n",
            "Card(rank='9', suit='diamonds')\n",
            "Card(rank='10', suit='diamonds')\n",
            "Card(rank='J', suit='diamonds')\n",
            "Card(rank='O', suit='diamonds')\n",
            "Card(rank='K', suit='diamonds')\n",
            "Card(rank='A', suit='diamonds')\n",
            "Card(rank='2', suit='clubs')\n",
            "Card(rank='3', suit='clubs')\n",
            "Card(rank='4', suit='clubs')\n",
            "Card(rank='5', suit='clubs')\n",
            "Card(rank='6', suit='clubs')\n",
            "Card(rank='7', suit='clubs')\n",
            "Card(rank='8', suit='clubs')\n",
            "Card(rank='9', suit='clubs')\n",
            "Card(rank='10', suit='clubs')\n",
            "Card(rank='J', suit='clubs')\n",
            "Card(rank='O', suit='clubs')\n",
            "Card(rank='K', suit='clubs')\n",
            "Card(rank='A', suit='clubs')\n",
            "Card(rank='2', suit='hearts')\n",
            "Card(rank='3', suit='hearts')\n",
            "Card(rank='4', suit='hearts')\n",
            "Card(rank='5', suit='hearts')\n",
            "Card(rank='6', suit='hearts')\n",
            "Card(rank='7', suit='hearts')\n",
            "Card(rank='8', suit='hearts')\n",
            "Card(rank='9', suit='hearts')\n",
            "Card(rank='10', suit='hearts')\n",
            "Card(rank='J', suit='hearts')\n",
            "Card(rank='O', suit='hearts')\n",
            "Card(rank='K', suit='hearts')\n",
            "Card(rank='A', suit='hearts')\n"
          ]
        }
      ]
    },
    {
      "cell_type": "code",
      "source": [
        "class FrenchDeck:\n",
        "    ranks = [str(n) for n in range(2, 11)] + list('JOKA')\n",
        "    suits = 'spades diamonds clubs hearts'.split()\n",
        "\n",
        "    def __init__(self):\n",
        "        self._cards = [Card(rank, suit) for suit in self.suits\n",
        "                       for rank in self.ranks]\n",
        "\n",
        "    def __len__(self):\n",
        "        return len(self._cards)\n",
        "\n",
        "    def __getitem__(self, position):\n",
        "        return self._cards[position]\n",
        "\n",
        "deck = FrenchDeck()\n",
        "\n",
        "for card in reversed(deck):\n",
        "  print(card)"
      ],
      "metadata": {
        "colab": {
          "base_uri": "https://localhost:8080/"
        },
        "id": "b2BINbyOrP7B",
        "outputId": "96aee04d-f805-4125-ada2-37cc521e271e"
      },
      "execution_count": 34,
      "outputs": [
        {
          "output_type": "stream",
          "name": "stdout",
          "text": [
            "Card(rank='A', suit='hearts')\n",
            "Card(rank='K', suit='hearts')\n",
            "Card(rank='O', suit='hearts')\n",
            "Card(rank='J', suit='hearts')\n",
            "Card(rank='10', suit='hearts')\n",
            "Card(rank='9', suit='hearts')\n",
            "Card(rank='8', suit='hearts')\n",
            "Card(rank='7', suit='hearts')\n",
            "Card(rank='6', suit='hearts')\n",
            "Card(rank='5', suit='hearts')\n",
            "Card(rank='4', suit='hearts')\n",
            "Card(rank='3', suit='hearts')\n",
            "Card(rank='2', suit='hearts')\n",
            "Card(rank='A', suit='clubs')\n",
            "Card(rank='K', suit='clubs')\n",
            "Card(rank='O', suit='clubs')\n",
            "Card(rank='J', suit='clubs')\n",
            "Card(rank='10', suit='clubs')\n",
            "Card(rank='9', suit='clubs')\n",
            "Card(rank='8', suit='clubs')\n",
            "Card(rank='7', suit='clubs')\n",
            "Card(rank='6', suit='clubs')\n",
            "Card(rank='5', suit='clubs')\n",
            "Card(rank='4', suit='clubs')\n",
            "Card(rank='3', suit='clubs')\n",
            "Card(rank='2', suit='clubs')\n",
            "Card(rank='A', suit='diamonds')\n",
            "Card(rank='K', suit='diamonds')\n",
            "Card(rank='O', suit='diamonds')\n",
            "Card(rank='J', suit='diamonds')\n",
            "Card(rank='10', suit='diamonds')\n",
            "Card(rank='9', suit='diamonds')\n",
            "Card(rank='8', suit='diamonds')\n",
            "Card(rank='7', suit='diamonds')\n",
            "Card(rank='6', suit='diamonds')\n",
            "Card(rank='5', suit='diamonds')\n",
            "Card(rank='4', suit='diamonds')\n",
            "Card(rank='3', suit='diamonds')\n",
            "Card(rank='2', suit='diamonds')\n",
            "Card(rank='A', suit='spades')\n",
            "Card(rank='K', suit='spades')\n",
            "Card(rank='O', suit='spades')\n",
            "Card(rank='J', suit='spades')\n",
            "Card(rank='10', suit='spades')\n",
            "Card(rank='9', suit='spades')\n",
            "Card(rank='8', suit='spades')\n",
            "Card(rank='7', suit='spades')\n",
            "Card(rank='6', suit='spades')\n",
            "Card(rank='5', suit='spades')\n",
            "Card(rank='4', suit='spades')\n",
            "Card(rank='3', suit='spades')\n",
            "Card(rank='2', suit='spades')\n"
          ]
        }
      ]
    },
    {
      "cell_type": "code",
      "source": [
        "class FrenchDeck:\n",
        "    ranks = [str(n) for n in range(2, 11)] + list('JOKA')\n",
        "    suits = 'spades diamonds clubs hearts'.split()\n",
        "\n",
        "    def __init__(self):\n",
        "        self._cards = [Card(rank, suit) for suit in self.suits\n",
        "                       for rank in self.ranks]\n",
        "\n",
        "    def __len__(self):\n",
        "        return len(self._cards)\n",
        "\n",
        "    def __getitem__(self, position):\n",
        "        return self._cards[position]\n",
        "\n",
        "deck = FrenchDeck()\n",
        "\n",
        "Card('Q', 'hearts') in deck"
      ],
      "metadata": {
        "colab": {
          "base_uri": "https://localhost:8080/"
        },
        "id": "KKv2hcStrgIf",
        "outputId": "2c3e861c-e81e-433c-de79-ea14a2783c73"
      },
      "execution_count": 35,
      "outputs": [
        {
          "output_type": "execute_result",
          "data": {
            "text/plain": [
              "False"
            ]
          },
          "metadata": {},
          "execution_count": 35
        }
      ]
    },
    {
      "cell_type": "code",
      "source": [
        "suit_values = dict(spades=3, hearts=2, diamonds=1, clubs=0)\n",
        "\n",
        "def spades_high(card):\n",
        "  rank_value = FrenchDeck.ranks.index(card.rank)\n",
        "  return rank_value * len(suit_values) + suit_values[card.suit]\n",
        "\n",
        "for card in sorted(deck, key=spades_high):\n",
        "  print(card)"
      ],
      "metadata": {
        "colab": {
          "base_uri": "https://localhost:8080/"
        },
        "id": "7sqEkyJNr67W",
        "outputId": "3040491f-323c-48a2-b373-4fb965a6ac52"
      },
      "execution_count": 38,
      "outputs": [
        {
          "output_type": "stream",
          "name": "stdout",
          "text": [
            "Card(rank='2', suit='clubs')\n",
            "Card(rank='2', suit='diamonds')\n",
            "Card(rank='2', suit='hearts')\n",
            "Card(rank='2', suit='spades')\n",
            "Card(rank='3', suit='clubs')\n",
            "Card(rank='3', suit='diamonds')\n",
            "Card(rank='3', suit='hearts')\n",
            "Card(rank='3', suit='spades')\n",
            "Card(rank='4', suit='clubs')\n",
            "Card(rank='4', suit='diamonds')\n",
            "Card(rank='4', suit='hearts')\n",
            "Card(rank='4', suit='spades')\n",
            "Card(rank='5', suit='clubs')\n",
            "Card(rank='5', suit='diamonds')\n",
            "Card(rank='5', suit='hearts')\n",
            "Card(rank='5', suit='spades')\n",
            "Card(rank='6', suit='clubs')\n",
            "Card(rank='6', suit='diamonds')\n",
            "Card(rank='6', suit='hearts')\n",
            "Card(rank='6', suit='spades')\n",
            "Card(rank='7', suit='clubs')\n",
            "Card(rank='7', suit='diamonds')\n",
            "Card(rank='7', suit='hearts')\n",
            "Card(rank='7', suit='spades')\n",
            "Card(rank='8', suit='clubs')\n",
            "Card(rank='8', suit='diamonds')\n",
            "Card(rank='8', suit='hearts')\n",
            "Card(rank='8', suit='spades')\n",
            "Card(rank='9', suit='clubs')\n",
            "Card(rank='9', suit='diamonds')\n",
            "Card(rank='9', suit='hearts')\n",
            "Card(rank='9', suit='spades')\n",
            "Card(rank='10', suit='clubs')\n",
            "Card(rank='10', suit='diamonds')\n",
            "Card(rank='10', suit='hearts')\n",
            "Card(rank='10', suit='spades')\n",
            "Card(rank='J', suit='clubs')\n",
            "Card(rank='J', suit='diamonds')\n",
            "Card(rank='J', suit='hearts')\n",
            "Card(rank='J', suit='spades')\n",
            "Card(rank='O', suit='clubs')\n",
            "Card(rank='O', suit='diamonds')\n",
            "Card(rank='O', suit='hearts')\n",
            "Card(rank='O', suit='spades')\n",
            "Card(rank='K', suit='clubs')\n",
            "Card(rank='K', suit='diamonds')\n",
            "Card(rank='K', suit='hearts')\n",
            "Card(rank='K', suit='spades')\n",
            "Card(rank='A', suit='clubs')\n",
            "Card(rank='A', suit='diamonds')\n",
            "Card(rank='A', suit='hearts')\n",
            "Card(rank='A', suit='spades')\n"
          ]
        }
      ]
    }
  ]
}